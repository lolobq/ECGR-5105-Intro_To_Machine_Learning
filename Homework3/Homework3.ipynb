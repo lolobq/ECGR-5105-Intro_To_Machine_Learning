{
  "nbformat": 4,
  "nbformat_minor": 0,
  "metadata": {
    "colab": {
      "provenance": [],
      "authorship_tag": "ABX9TyN00g6PbpxY9cS05d8lrql7",
      "include_colab_link": true
    },
    "kernelspec": {
      "name": "python3",
      "display_name": "Python 3"
    },
    "language_info": {
      "name": "python"
    }
  },
  "cells": [
    {
      "cell_type": "markdown",
      "metadata": {
        "id": "view-in-github",
        "colab_type": "text"
      },
      "source": [
        "<a href=\"https://colab.research.google.com/github/lolobq/ECGR-5105-Intro_To_Machine_Learning/blob/main/Homework3/Homework3.ipynb\" target=\"_parent\"><img src=\"https://colab.research.google.com/assets/colab-badge.svg\" alt=\"Open In Colab\"/></a>"
      ]
    },
    {
      "cell_type": "markdown",
      "source": [
        "# Import Libraries and Data"
      ],
      "metadata": {
        "id": "86mLGlwKw3oC"
      }
    },
    {
      "cell_type": "code",
      "execution_count": 17,
      "metadata": {
        "id": "_5zB61NIwo9K"
      },
      "outputs": [],
      "source": [
        "# Generic Libraries\n",
        "import numpy as np\n",
        "import matplotlib.pyplot as plt\n",
        "import pandas as pd\n",
        "import seaborn as sns\n",
        "\n",
        "# Sklearn\n",
        "from sklearn.model_selection import train_test_split\n",
        "from sklearn.preprocessing import StandardScaler\n",
        "from sklearn.linear_model import LogisticRegression\n",
        "from sklearn.metrics import confusion_matrix\n",
        "from sklearn import metrics\n",
        "from sklearn.naive_bayes import GaussianNB\n",
        "from sklearn.decomposition import PCA"
      ]
    },
    {
      "cell_type": "code",
      "source": [
        "# Import csv data from my GitHub repo\n",
        "diabetes_url = 'https://raw.githubusercontent.com/lolobq/ECGR-5105-Intro_To_Machine_Learning/master/Homework3/diabetes.csv'\n",
        "cancer_url = 'https://raw.githubusercontent.com/lolobq/ECGR-5105-Intro_To_Machine_Learning/master/Homework3/cancer.csv'\n",
        "\n",
        "# Create dataframes for each url\n",
        "db_df = pd.read_csv(diabetes_url)\n",
        "cr_df = pd.read_csv(cancer_url)\n",
        "\n",
        "# Display the first 5 rows of the DataFrame\n",
        "# print(db_df.head())\n",
        "cr_df.head()"
      ],
      "metadata": {
        "colab": {
          "base_uri": "https://localhost:8080/",
          "height": 273
        },
        "id": "DhFE-SGwyg7m",
        "outputId": "911237df-3357-4de2-a1b3-11a4758556b1"
      },
      "execution_count": 18,
      "outputs": [
        {
          "output_type": "execute_result",
          "data": {
            "text/plain": [
              "         id diagnosis  radius_mean  texture_mean  perimeter_mean  area_mean  \\\n",
              "0    842302         M        17.99         10.38          122.80     1001.0   \n",
              "1    842517         M        20.57         17.77          132.90     1326.0   \n",
              "2  84300903         M        19.69         21.25          130.00     1203.0   \n",
              "3  84348301         M        11.42         20.38           77.58      386.1   \n",
              "4  84358402         M        20.29         14.34          135.10     1297.0   \n",
              "\n",
              "   smoothness_mean  compactness_mean  concavity_mean  concave points_mean  \\\n",
              "0          0.11840           0.27760          0.3001              0.14710   \n",
              "1          0.08474           0.07864          0.0869              0.07017   \n",
              "2          0.10960           0.15990          0.1974              0.12790   \n",
              "3          0.14250           0.28390          0.2414              0.10520   \n",
              "4          0.10030           0.13280          0.1980              0.10430   \n",
              "\n",
              "   ...  radius_worst  texture_worst  perimeter_worst  area_worst  \\\n",
              "0  ...         25.38          17.33           184.60      2019.0   \n",
              "1  ...         24.99          23.41           158.80      1956.0   \n",
              "2  ...         23.57          25.53           152.50      1709.0   \n",
              "3  ...         14.91          26.50            98.87       567.7   \n",
              "4  ...         22.54          16.67           152.20      1575.0   \n",
              "\n",
              "   smoothness_worst  compactness_worst  concavity_worst  concave points_worst  \\\n",
              "0            0.1622             0.6656           0.7119                0.2654   \n",
              "1            0.1238             0.1866           0.2416                0.1860   \n",
              "2            0.1444             0.4245           0.4504                0.2430   \n",
              "3            0.2098             0.8663           0.6869                0.2575   \n",
              "4            0.1374             0.2050           0.4000                0.1625   \n",
              "\n",
              "   symmetry_worst  fractal_dimension_worst  \n",
              "0          0.4601                  0.11890  \n",
              "1          0.2750                  0.08902  \n",
              "2          0.3613                  0.08758  \n",
              "3          0.6638                  0.17300  \n",
              "4          0.2364                  0.07678  \n",
              "\n",
              "[5 rows x 32 columns]"
            ],
            "text/html": [
              "\n",
              "  <div id=\"df-15267aee-b4fc-4de8-a1b5-7e8a5f0b5040\" class=\"colab-df-container\">\n",
              "    <div>\n",
              "<style scoped>\n",
              "    .dataframe tbody tr th:only-of-type {\n",
              "        vertical-align: middle;\n",
              "    }\n",
              "\n",
              "    .dataframe tbody tr th {\n",
              "        vertical-align: top;\n",
              "    }\n",
              "\n",
              "    .dataframe thead th {\n",
              "        text-align: right;\n",
              "    }\n",
              "</style>\n",
              "<table border=\"1\" class=\"dataframe\">\n",
              "  <thead>\n",
              "    <tr style=\"text-align: right;\">\n",
              "      <th></th>\n",
              "      <th>id</th>\n",
              "      <th>diagnosis</th>\n",
              "      <th>radius_mean</th>\n",
              "      <th>texture_mean</th>\n",
              "      <th>perimeter_mean</th>\n",
              "      <th>area_mean</th>\n",
              "      <th>smoothness_mean</th>\n",
              "      <th>compactness_mean</th>\n",
              "      <th>concavity_mean</th>\n",
              "      <th>concave points_mean</th>\n",
              "      <th>...</th>\n",
              "      <th>radius_worst</th>\n",
              "      <th>texture_worst</th>\n",
              "      <th>perimeter_worst</th>\n",
              "      <th>area_worst</th>\n",
              "      <th>smoothness_worst</th>\n",
              "      <th>compactness_worst</th>\n",
              "      <th>concavity_worst</th>\n",
              "      <th>concave points_worst</th>\n",
              "      <th>symmetry_worst</th>\n",
              "      <th>fractal_dimension_worst</th>\n",
              "    </tr>\n",
              "  </thead>\n",
              "  <tbody>\n",
              "    <tr>\n",
              "      <th>0</th>\n",
              "      <td>842302</td>\n",
              "      <td>M</td>\n",
              "      <td>17.99</td>\n",
              "      <td>10.38</td>\n",
              "      <td>122.80</td>\n",
              "      <td>1001.0</td>\n",
              "      <td>0.11840</td>\n",
              "      <td>0.27760</td>\n",
              "      <td>0.3001</td>\n",
              "      <td>0.14710</td>\n",
              "      <td>...</td>\n",
              "      <td>25.38</td>\n",
              "      <td>17.33</td>\n",
              "      <td>184.60</td>\n",
              "      <td>2019.0</td>\n",
              "      <td>0.1622</td>\n",
              "      <td>0.6656</td>\n",
              "      <td>0.7119</td>\n",
              "      <td>0.2654</td>\n",
              "      <td>0.4601</td>\n",
              "      <td>0.11890</td>\n",
              "    </tr>\n",
              "    <tr>\n",
              "      <th>1</th>\n",
              "      <td>842517</td>\n",
              "      <td>M</td>\n",
              "      <td>20.57</td>\n",
              "      <td>17.77</td>\n",
              "      <td>132.90</td>\n",
              "      <td>1326.0</td>\n",
              "      <td>0.08474</td>\n",
              "      <td>0.07864</td>\n",
              "      <td>0.0869</td>\n",
              "      <td>0.07017</td>\n",
              "      <td>...</td>\n",
              "      <td>24.99</td>\n",
              "      <td>23.41</td>\n",
              "      <td>158.80</td>\n",
              "      <td>1956.0</td>\n",
              "      <td>0.1238</td>\n",
              "      <td>0.1866</td>\n",
              "      <td>0.2416</td>\n",
              "      <td>0.1860</td>\n",
              "      <td>0.2750</td>\n",
              "      <td>0.08902</td>\n",
              "    </tr>\n",
              "    <tr>\n",
              "      <th>2</th>\n",
              "      <td>84300903</td>\n",
              "      <td>M</td>\n",
              "      <td>19.69</td>\n",
              "      <td>21.25</td>\n",
              "      <td>130.00</td>\n",
              "      <td>1203.0</td>\n",
              "      <td>0.10960</td>\n",
              "      <td>0.15990</td>\n",
              "      <td>0.1974</td>\n",
              "      <td>0.12790</td>\n",
              "      <td>...</td>\n",
              "      <td>23.57</td>\n",
              "      <td>25.53</td>\n",
              "      <td>152.50</td>\n",
              "      <td>1709.0</td>\n",
              "      <td>0.1444</td>\n",
              "      <td>0.4245</td>\n",
              "      <td>0.4504</td>\n",
              "      <td>0.2430</td>\n",
              "      <td>0.3613</td>\n",
              "      <td>0.08758</td>\n",
              "    </tr>\n",
              "    <tr>\n",
              "      <th>3</th>\n",
              "      <td>84348301</td>\n",
              "      <td>M</td>\n",
              "      <td>11.42</td>\n",
              "      <td>20.38</td>\n",
              "      <td>77.58</td>\n",
              "      <td>386.1</td>\n",
              "      <td>0.14250</td>\n",
              "      <td>0.28390</td>\n",
              "      <td>0.2414</td>\n",
              "      <td>0.10520</td>\n",
              "      <td>...</td>\n",
              "      <td>14.91</td>\n",
              "      <td>26.50</td>\n",
              "      <td>98.87</td>\n",
              "      <td>567.7</td>\n",
              "      <td>0.2098</td>\n",
              "      <td>0.8663</td>\n",
              "      <td>0.6869</td>\n",
              "      <td>0.2575</td>\n",
              "      <td>0.6638</td>\n",
              "      <td>0.17300</td>\n",
              "    </tr>\n",
              "    <tr>\n",
              "      <th>4</th>\n",
              "      <td>84358402</td>\n",
              "      <td>M</td>\n",
              "      <td>20.29</td>\n",
              "      <td>14.34</td>\n",
              "      <td>135.10</td>\n",
              "      <td>1297.0</td>\n",
              "      <td>0.10030</td>\n",
              "      <td>0.13280</td>\n",
              "      <td>0.1980</td>\n",
              "      <td>0.10430</td>\n",
              "      <td>...</td>\n",
              "      <td>22.54</td>\n",
              "      <td>16.67</td>\n",
              "      <td>152.20</td>\n",
              "      <td>1575.0</td>\n",
              "      <td>0.1374</td>\n",
              "      <td>0.2050</td>\n",
              "      <td>0.4000</td>\n",
              "      <td>0.1625</td>\n",
              "      <td>0.2364</td>\n",
              "      <td>0.07678</td>\n",
              "    </tr>\n",
              "  </tbody>\n",
              "</table>\n",
              "<p>5 rows × 32 columns</p>\n",
              "</div>\n",
              "    <div class=\"colab-df-buttons\">\n",
              "\n",
              "  <div class=\"colab-df-container\">\n",
              "    <button class=\"colab-df-convert\" onclick=\"convertToInteractive('df-15267aee-b4fc-4de8-a1b5-7e8a5f0b5040')\"\n",
              "            title=\"Convert this dataframe to an interactive table.\"\n",
              "            style=\"display:none;\">\n",
              "\n",
              "  <svg xmlns=\"http://www.w3.org/2000/svg\" height=\"24px\" viewBox=\"0 -960 960 960\">\n",
              "    <path d=\"M120-120v-720h720v720H120Zm60-500h600v-160H180v160Zm220 220h160v-160H400v160Zm0 220h160v-160H400v160ZM180-400h160v-160H180v160Zm440 0h160v-160H620v160ZM180-180h160v-160H180v160Zm440 0h160v-160H620v160Z\"/>\n",
              "  </svg>\n",
              "    </button>\n",
              "\n",
              "  <style>\n",
              "    .colab-df-container {\n",
              "      display:flex;\n",
              "      gap: 12px;\n",
              "    }\n",
              "\n",
              "    .colab-df-convert {\n",
              "      background-color: #E8F0FE;\n",
              "      border: none;\n",
              "      border-radius: 50%;\n",
              "      cursor: pointer;\n",
              "      display: none;\n",
              "      fill: #1967D2;\n",
              "      height: 32px;\n",
              "      padding: 0 0 0 0;\n",
              "      width: 32px;\n",
              "    }\n",
              "\n",
              "    .colab-df-convert:hover {\n",
              "      background-color: #E2EBFA;\n",
              "      box-shadow: 0px 1px 2px rgba(60, 64, 67, 0.3), 0px 1px 3px 1px rgba(60, 64, 67, 0.15);\n",
              "      fill: #174EA6;\n",
              "    }\n",
              "\n",
              "    .colab-df-buttons div {\n",
              "      margin-bottom: 4px;\n",
              "    }\n",
              "\n",
              "    [theme=dark] .colab-df-convert {\n",
              "      background-color: #3B4455;\n",
              "      fill: #D2E3FC;\n",
              "    }\n",
              "\n",
              "    [theme=dark] .colab-df-convert:hover {\n",
              "      background-color: #434B5C;\n",
              "      box-shadow: 0px 1px 3px 1px rgba(0, 0, 0, 0.15);\n",
              "      filter: drop-shadow(0px 1px 2px rgba(0, 0, 0, 0.3));\n",
              "      fill: #FFFFFF;\n",
              "    }\n",
              "  </style>\n",
              "\n",
              "    <script>\n",
              "      const buttonEl =\n",
              "        document.querySelector('#df-15267aee-b4fc-4de8-a1b5-7e8a5f0b5040 button.colab-df-convert');\n",
              "      buttonEl.style.display =\n",
              "        google.colab.kernel.accessAllowed ? 'block' : 'none';\n",
              "\n",
              "      async function convertToInteractive(key) {\n",
              "        const element = document.querySelector('#df-15267aee-b4fc-4de8-a1b5-7e8a5f0b5040');\n",
              "        const dataTable =\n",
              "          await google.colab.kernel.invokeFunction('convertToInteractive',\n",
              "                                                    [key], {});\n",
              "        if (!dataTable) return;\n",
              "\n",
              "        const docLinkHtml = 'Like what you see? Visit the ' +\n",
              "          '<a target=\"_blank\" href=https://colab.research.google.com/notebooks/data_table.ipynb>data table notebook</a>'\n",
              "          + ' to learn more about interactive tables.';\n",
              "        element.innerHTML = '';\n",
              "        dataTable['output_type'] = 'display_data';\n",
              "        await google.colab.output.renderOutput(dataTable, element);\n",
              "        const docLink = document.createElement('div');\n",
              "        docLink.innerHTML = docLinkHtml;\n",
              "        element.appendChild(docLink);\n",
              "      }\n",
              "    </script>\n",
              "  </div>\n",
              "\n",
              "\n",
              "<div id=\"df-d49188c6-c21b-4e0c-b99f-f452dc904e34\">\n",
              "  <button class=\"colab-df-quickchart\" onclick=\"quickchart('df-d49188c6-c21b-4e0c-b99f-f452dc904e34')\"\n",
              "            title=\"Suggest charts.\"\n",
              "            style=\"display:none;\">\n",
              "\n",
              "<svg xmlns=\"http://www.w3.org/2000/svg\" height=\"24px\"viewBox=\"0 0 24 24\"\n",
              "     width=\"24px\">\n",
              "    <g>\n",
              "        <path d=\"M19 3H5c-1.1 0-2 .9-2 2v14c0 1.1.9 2 2 2h14c1.1 0 2-.9 2-2V5c0-1.1-.9-2-2-2zM9 17H7v-7h2v7zm4 0h-2V7h2v10zm4 0h-2v-4h2v4z\"/>\n",
              "    </g>\n",
              "</svg>\n",
              "  </button>\n",
              "\n",
              "<style>\n",
              "  .colab-df-quickchart {\n",
              "      --bg-color: #E8F0FE;\n",
              "      --fill-color: #1967D2;\n",
              "      --hover-bg-color: #E2EBFA;\n",
              "      --hover-fill-color: #174EA6;\n",
              "      --disabled-fill-color: #AAA;\n",
              "      --disabled-bg-color: #DDD;\n",
              "  }\n",
              "\n",
              "  [theme=dark] .colab-df-quickchart {\n",
              "      --bg-color: #3B4455;\n",
              "      --fill-color: #D2E3FC;\n",
              "      --hover-bg-color: #434B5C;\n",
              "      --hover-fill-color: #FFFFFF;\n",
              "      --disabled-bg-color: #3B4455;\n",
              "      --disabled-fill-color: #666;\n",
              "  }\n",
              "\n",
              "  .colab-df-quickchart {\n",
              "    background-color: var(--bg-color);\n",
              "    border: none;\n",
              "    border-radius: 50%;\n",
              "    cursor: pointer;\n",
              "    display: none;\n",
              "    fill: var(--fill-color);\n",
              "    height: 32px;\n",
              "    padding: 0;\n",
              "    width: 32px;\n",
              "  }\n",
              "\n",
              "  .colab-df-quickchart:hover {\n",
              "    background-color: var(--hover-bg-color);\n",
              "    box-shadow: 0 1px 2px rgba(60, 64, 67, 0.3), 0 1px 3px 1px rgba(60, 64, 67, 0.15);\n",
              "    fill: var(--button-hover-fill-color);\n",
              "  }\n",
              "\n",
              "  .colab-df-quickchart-complete:disabled,\n",
              "  .colab-df-quickchart-complete:disabled:hover {\n",
              "    background-color: var(--disabled-bg-color);\n",
              "    fill: var(--disabled-fill-color);\n",
              "    box-shadow: none;\n",
              "  }\n",
              "\n",
              "  .colab-df-spinner {\n",
              "    border: 2px solid var(--fill-color);\n",
              "    border-color: transparent;\n",
              "    border-bottom-color: var(--fill-color);\n",
              "    animation:\n",
              "      spin 1s steps(1) infinite;\n",
              "  }\n",
              "\n",
              "  @keyframes spin {\n",
              "    0% {\n",
              "      border-color: transparent;\n",
              "      border-bottom-color: var(--fill-color);\n",
              "      border-left-color: var(--fill-color);\n",
              "    }\n",
              "    20% {\n",
              "      border-color: transparent;\n",
              "      border-left-color: var(--fill-color);\n",
              "      border-top-color: var(--fill-color);\n",
              "    }\n",
              "    30% {\n",
              "      border-color: transparent;\n",
              "      border-left-color: var(--fill-color);\n",
              "      border-top-color: var(--fill-color);\n",
              "      border-right-color: var(--fill-color);\n",
              "    }\n",
              "    40% {\n",
              "      border-color: transparent;\n",
              "      border-right-color: var(--fill-color);\n",
              "      border-top-color: var(--fill-color);\n",
              "    }\n",
              "    60% {\n",
              "      border-color: transparent;\n",
              "      border-right-color: var(--fill-color);\n",
              "    }\n",
              "    80% {\n",
              "      border-color: transparent;\n",
              "      border-right-color: var(--fill-color);\n",
              "      border-bottom-color: var(--fill-color);\n",
              "    }\n",
              "    90% {\n",
              "      border-color: transparent;\n",
              "      border-bottom-color: var(--fill-color);\n",
              "    }\n",
              "  }\n",
              "</style>\n",
              "\n",
              "  <script>\n",
              "    async function quickchart(key) {\n",
              "      const quickchartButtonEl =\n",
              "        document.querySelector('#' + key + ' button');\n",
              "      quickchartButtonEl.disabled = true;  // To prevent multiple clicks.\n",
              "      quickchartButtonEl.classList.add('colab-df-spinner');\n",
              "      try {\n",
              "        const charts = await google.colab.kernel.invokeFunction(\n",
              "            'suggestCharts', [key], {});\n",
              "      } catch (error) {\n",
              "        console.error('Error during call to suggestCharts:', error);\n",
              "      }\n",
              "      quickchartButtonEl.classList.remove('colab-df-spinner');\n",
              "      quickchartButtonEl.classList.add('colab-df-quickchart-complete');\n",
              "    }\n",
              "    (() => {\n",
              "      let quickchartButtonEl =\n",
              "        document.querySelector('#df-d49188c6-c21b-4e0c-b99f-f452dc904e34 button');\n",
              "      quickchartButtonEl.style.display =\n",
              "        google.colab.kernel.accessAllowed ? 'block' : 'none';\n",
              "    })();\n",
              "  </script>\n",
              "</div>\n",
              "    </div>\n",
              "  </div>\n"
            ]
          },
          "metadata": {},
          "execution_count": 18
        }
      ]
    },
    {
      "cell_type": "markdown",
      "source": [
        "# Code for Problem 1"
      ],
      "metadata": {
        "id": "gUOnATZR0iFV"
      }
    },
    {
      "cell_type": "code",
      "source": [
        "# Extract the input and output values\n",
        "x1 = db_df.iloc[:, :8].values\n",
        "y1 = db_df.iloc[:, 8].values\n",
        "\n",
        "# Split the data into training and validation sets\n",
        "x1_train, x1_test, y1_train, y1_test = train_test_split(x1, y1, train_size = 0.8, test_size = 0.2, random_state = 0)\n",
        "\n",
        "# Scale the data using standardization\n",
        "sc_x1 = StandardScaler()\n",
        "x1_train = sc_x1.fit_transform(x1_train)\n",
        "x1_test = sc_x1.transform(x1_test)"
      ],
      "metadata": {
        "id": "dEWE2h5y0l2r"
      },
      "execution_count": 19,
      "outputs": []
    },
    {
      "cell_type": "code",
      "source": [
        "def perform_logistic_regression(x_train, y_train, x_test, y_test):\n",
        "    \"\"\"\n",
        "    Performs logistic regression, making predictions and creating a confusion matrix.\n",
        "    Also prints the accuracy, precision, recall, and F1 score.\n",
        "\n",
        "    Parameters:\n",
        "    x_train : The input data from the training set\n",
        "    y_train : The output data from the training set\n",
        "    x_test : The input data from the test set\n",
        "    y_test : The output data from the test set\n",
        "\n",
        "    Returns:\n",
        "    cnf_matrix : A 2D array containing true negative, false positive, false negative, and true positive (in that order)\n",
        "    \"\"\"\n",
        "    classifier = LogisticRegression(random_state=0)\n",
        "    classifier.fit(x_train, y_train)\n",
        "\n",
        "    # Make predictions\n",
        "    y_pred = classifier.predict(x_test)\n",
        "\n",
        "    # Find confusion matrix\n",
        "    cnf_matrix = confusion_matrix(y_test, y_pred)\n",
        "    cnf_matrix\n",
        "\n",
        "    # Find accuracy, precision, and recall\n",
        "    print(\"Accuracy:\", metrics.accuracy_score(y_test, y_pred))\n",
        "    print(\"Precision:\", metrics.precision_score(y_test, y_pred))\n",
        "    print(\"Recall:\", metrics.recall_score(y_test, y_pred))\n",
        "    print(\"F1 Score:\", metrics.f1_score(y_test, y_pred))\n",
        "\n",
        "    return cnf_matrix"
      ],
      "metadata": {
        "id": "TBMHjRH94AkM"
      },
      "execution_count": 20,
      "outputs": []
    },
    {
      "cell_type": "code",
      "source": [
        "def plot_confusion_matrix(confusion_matrix, neg_label, pos_label):\n",
        "    \"\"\"\n",
        "    Plots the confusion matrix.\n",
        "\n",
        "    Parameters:\n",
        "    confusion_matrix: The 4 values for true negative, false positive, false negative, and true positive (in that order)\n",
        "    \"\"\"\n",
        "    # Visualize the confusion matrix using a heatmap\n",
        "    class_names=[neg_label, pos_label] # Name  of classes\n",
        "    fig, ax = plt.subplots()\n",
        "    tick_marks = np.arange(len(class_names))\n",
        "    plt.xticks(tick_marks)\n",
        "    plt.yticks(tick_marks)\n",
        "\n",
        "    # Create heatmap\n",
        "    sns.heatmap(pd.DataFrame(confusion_matrix), annot=True, cmap=\"YlGnBu\" ,fmt='g')\n",
        "    ax.xaxis.set_label_position(\"top\")\n",
        "    ax.set_xticklabels(class_names)\n",
        "    ax.set_yticklabels(class_names)\n",
        "    plt.tight_layout()\n",
        "    plt.title('Confusion matrix', y=1.1)\n",
        "    plt.ylabel('Actual label')\n",
        "    plt.xlabel('Predicted label')"
      ],
      "metadata": {
        "id": "giWrDCxQ3FiR"
      },
      "execution_count": 21,
      "outputs": []
    },
    {
      "cell_type": "code",
      "source": [
        "# Perform logistic regression and return confusion matrix\n",
        "confusion_matrix_1 = perform_logistic_regression(x_train=x1_train, y_train=y1_train, x_test=x1_test, y_test=y1_test)\n",
        "\n",
        "# Plot the confusion matrix\n",
        "plot_confusion_matrix(confusion_matrix=confusion_matrix_1, neg_label='Negative', pos_label='Positive')"
      ],
      "metadata": {
        "colab": {
          "base_uri": "https://localhost:8080/",
          "height": 620
        },
        "id": "bX44VN03bqrD",
        "outputId": "062595bb-b63c-4e73-bda0-5225f3916d1a"
      },
      "execution_count": 22,
      "outputs": [
        {
          "output_type": "stream",
          "name": "stdout",
          "text": [
            "Accuracy: 0.8246753246753247\n",
            "Precision: 0.7631578947368421\n",
            "Recall: 0.6170212765957447\n",
            "F1 Score: 0.6823529411764706\n"
          ]
        },
        {
          "output_type": "display_data",
          "data": {
            "text/plain": [
              "<Figure size 640x480 with 2 Axes>"
            ],
            "image/png": "[encoded data removed]"
          },
          "metadata": {}
        }
      ]
    },
    {
      "cell_type": "markdown",
      "source": [
        "# Code for Problem 2a"
      ],
      "metadata": {
        "id": "VUXxmdw7zC07"
      }
    },
    {
      "cell_type": "code",
      "source": [
        "# Replacing the Benign and Malignant diagnoses with numbers\n",
        "cr_df['diagnosis'].replace('B', 0, inplace=True)\n",
        "cr_df['diagnosis'].replace('M', 1, inplace=True)\n",
        "\n",
        "# Extract the input and output values\n",
        "x2 = cr_df.iloc[:, 2:].values\n",
        "y2 = cr_df.iloc[:, 1].values\n",
        "\n",
        "# Split the data into training and validation sets\n",
        "x2_train, x2_test, y2_train, y2_test = train_test_split(x2, y2, train_size = 0.8, test_size = 0.2, random_state = 0)\n",
        "\n",
        "# Scale the data using standardization\n",
        "sc_x = StandardScaler()\n",
        "x2_train = sc_x.fit_transform(x2_train)\n",
        "x2_test = sc_x.transform(x2_test)\n",
        "\n",
        "print(x2)"
      ],
      "metadata": {
        "colab": {
          "base_uri": "https://localhost:8080/"
        },
        "id": "caY5frYfzGwr",
        "outputId": "0e1d9c46-25a5-47b2-a0ca-3fdf3c362382"
      },
      "execution_count": 23,
      "outputs": [
        {
          "output_type": "stream",
          "name": "stdout",
          "text": [
            "[[1.799e+01 1.038e+01 1.228e+02 ... 2.654e-01 4.601e-01 1.189e-01]\n",
            " [2.057e+01 1.777e+01 1.329e+02 ... 1.860e-01 2.750e-01 8.902e-02]\n",
            " [1.969e+01 2.125e+01 1.300e+02 ... 2.430e-01 3.613e-01 8.758e-02]\n",
            " ...\n",
            " [1.660e+01 2.808e+01 1.083e+02 ... 1.418e-01 2.218e-01 7.820e-02]\n",
            " [2.060e+01 2.933e+01 1.401e+02 ... 2.650e-01 4.087e-01 1.240e-01]\n",
            " [7.760e+00 2.454e+01 4.792e+01 ... 0.000e+00 2.871e-01 7.039e-02]]\n"
          ]
        }
      ]
    },
    {
      "cell_type": "code",
      "source": [
        "# Perform logistic regression and return confusion matrix\n",
        "confusion_matrix_2 = perform_logistic_regression(x_train=x2_train, y_train=y2_train, x_test=x2_test, y_test=y2_test)\n",
        "\n",
        "# Plot the confusion matrix\n",
        "plot_confusion_matrix(confusion_matrix=confusion_matrix_2, neg_label='Benign', pos_label='Malignant')"
      ],
      "metadata": {
        "colab": {
          "base_uri": "https://localhost:8080/",
          "height": 620
        },
        "id": "602rKgE79wek",
        "outputId": "1d8a5634-a6be-4dee-eff5-de17a2cfcb1d"
      },
      "execution_count": 24,
      "outputs": [
        {
          "output_type": "stream",
          "name": "stdout",
          "text": [
            "Accuracy: 0.9649122807017544\n",
            "Precision: 0.9574468085106383\n",
            "Recall: 0.9574468085106383\n",
            "F1 Score: 0.9574468085106385\n"
          ]
        },
        {
          "output_type": "display_data",
          "data": {
            "text/plain": [
              "<Figure size 640x480 with 2 Axes>"
            ],
            "image/png": "[encoded data removed]"
          },
          "metadata": {}
        }
      ]
    },
    {
      "cell_type": "markdown",
      "source": [
        "# Code for Problem 2b"
      ],
      "metadata": {
        "id": "s3aptXkfBf40"
      }
    },
    {
      "cell_type": "code",
      "source": [
        "# Adding a parameters penalty\n",
        "C = [10, 5, 1, .1, .001]\n",
        "x2b_train =  x2_train\n",
        "x2b_test = x2_test\n",
        "\n",
        "# Exploring different parameter penalties\n",
        "for c in C:\n",
        "    clf = LogisticRegression(penalty='l1', C=c, solver='liblinear')\n",
        "    clf.fit(x2b_train, y2_train)\n",
        "    print('C:', c)\n",
        "    print('Training accuracy:\\t%5.4f' %clf.score(x2b_train, y2_train))\n",
        "    print('Test accuracy:\\t\\t%5.4f' %clf.score(x2b_test, y2_test))\n",
        "    print('')"
      ],
      "metadata": {
        "colab": {
          "base_uri": "https://localhost:8080/"
        },
        "id": "yMoMjrT2BjeX",
        "outputId": "3cf6d9dc-dc09-475e-ef34-e2f11df54526"
      },
      "execution_count": 25,
      "outputs": [
        {
          "output_type": "stream",
          "name": "stdout",
          "text": [
            "C: 10\n",
            "Training accuracy:\t0.9890\n",
            "Test accuracy:\t\t0.9474\n",
            "\n",
            "C: 5\n",
            "Training accuracy:\t0.9890\n",
            "Test accuracy:\t\t0.9561\n",
            "\n",
            "C: 1\n",
            "Training accuracy:\t0.9890\n",
            "Test accuracy:\t\t0.9561\n",
            "\n",
            "C: 0.1\n",
            "Training accuracy:\t0.9758\n",
            "Test accuracy:\t\t0.9737\n",
            "\n",
            "C: 0.001\n",
            "Training accuracy:\t0.6374\n",
            "Test accuracy:\t\t0.5877\n",
            "\n"
          ]
        }
      ]
    },
    {
      "cell_type": "code",
      "source": [
        "# Selecting the best penalty and making the regression with it\n",
        "clf = LogisticRegression(penalty='l1', C=0.1, solver='liblinear')\n",
        "clf.fit(x2b_train, y2_train)\n",
        "y2b_pred = clf.predict(x2b_test)\n",
        "\n",
        "# Find accuracy, precision, and recall\n",
        "print(\"Accuracy:\", metrics.accuracy_score(y2_test, y2b_pred))\n",
        "print(\"Precision:\", metrics.precision_score(y2_test, y2b_pred))\n",
        "print(\"Recall:\", metrics.recall_score(y2_test, y2b_pred))\n",
        "print(\"F1 Score:\", metrics.f1_score(y2_test, y2b_pred))"
      ],
      "metadata": {
        "colab": {
          "base_uri": "https://localhost:8080/"
        },
        "id": "272q9_MWU01-",
        "outputId": "133df8a2-5264-42e8-ca14-b0717f4708d7"
      },
      "execution_count": 26,
      "outputs": [
        {
          "output_type": "stream",
          "name": "stdout",
          "text": [
            "Accuracy: 0.9736842105263158\n",
            "Precision: 0.9782608695652174\n",
            "Recall: 0.9574468085106383\n",
            "F1 Score: 0.967741935483871\n"
          ]
        }
      ]
    },
    {
      "cell_type": "code",
      "source": [
        "# Find confusion matrix\n",
        "confusion_matrix_2b = confusion_matrix(y2_test, y2b_pred)\n",
        "\n",
        "# Plot confusion matrix\n",
        "plot_confusion_matrix(confusion_matrix=confusion_matrix_2b, neg_label='Benign', pos_label='Malignant')"
      ],
      "metadata": {
        "colab": {
          "base_uri": "https://localhost:8080/",
          "height": 551
        },
        "id": "oISb5DS6Yxhb",
        "outputId": "0f6360b0-9b22-47cd-bf03-8cff2b628721"
      },
      "execution_count": 27,
      "outputs": [
        {
          "output_type": "display_data",
          "data": {
            "text/plain": [
              "<Figure size 640x480 with 2 Axes>"
            ],
            "image/png": "[encoded data removed]"
          },
          "metadata": {}
        }
      ]
    },
    {
      "cell_type": "markdown",
      "source": [
        "# Code for Problem 3"
      ],
      "metadata": {
        "id": "7B1Ven7SZP9y"
      }
    },
    {
      "cell_type": "code",
      "source": [
        "# Create the Gaussian classifier\n",
        "classifier = GaussianNB()\n",
        "classifier.fit(x2_train, y2_train)\n",
        "y3_pred = classifier.predict(x2_test)\n",
        "\n",
        "# Find accuracy, precision, and recall\n",
        "print(\"Accuracy:\", metrics.accuracy_score(y2_test, y3_pred))\n",
        "print(\"Precision:\", metrics.precision_score(y2_test, y3_pred))\n",
        "print(\"Recall:\", metrics.recall_score(y2_test, y3_pred))\n",
        "print(\"F1 Score:\", metrics.f1_score(y2_test, y3_pred))"
      ],
      "metadata": {
        "colab": {
          "base_uri": "https://localhost:8080/"
        },
        "id": "SDnCTOg-ZTLD",
        "outputId": "6454448d-a2bc-4608-bfd4-e87957c5889a"
      },
      "execution_count": 28,
      "outputs": [
        {
          "output_type": "stream",
          "name": "stdout",
          "text": [
            "Accuracy: 0.9035087719298246\n",
            "Precision: 0.875\n",
            "Recall: 0.8936170212765957\n",
            "F1 Score: 0.8842105263157894\n"
          ]
        }
      ]
    },
    {
      "cell_type": "code",
      "source": [
        "# Find confusion matrix\n",
        "confusion_matrix_3 = confusion_matrix(y2_test, y3_pred)\n",
        "\n",
        "# Plot confusion matrix\n",
        "plot_confusion_matrix(confusion_matrix=confusion_matrix_3, neg_label='Benign', pos_label='Malignant')"
      ],
      "metadata": {
        "colab": {
          "base_uri": "https://localhost:8080/",
          "height": 551
        },
        "id": "4z32W28qhaQQ",
        "outputId": "0455973f-879d-4b5a-8441-687e6dabef53"
      },
      "execution_count": 29,
      "outputs": [
        {
          "output_type": "display_data",
          "data": {
            "text/plain": [
              "<Figure size 640x480 with 2 Axes>"
            ],
            "image/png": "[encoded data removed]"
          },
          "metadata": {}
        }
      ]
    },
    {
      "cell_type": "markdown",
      "source": [
        "# Code for Problem 4"
      ],
      "metadata": {
        "id": "sxUwI1_4hzM1"
      }
    },
    {
      "cell_type": "code",
      "source": [
        "# Replacing the Benign and Malignant diagnoses with numbers\n",
        "cr_df['diagnosis'].replace('B', 0, inplace=True)\n",
        "cr_df['diagnosis'].replace('M', 1, inplace=True)\n",
        "\n",
        "# Extract the input and output values\n",
        "x4 = cr_df.iloc[:, 2:].values\n",
        "y4 = cr_df.iloc[:, 1].values\n",
        "\n",
        "# Perform standardization\n",
        "x4 = StandardScaler().fit_transform(x4)"
      ],
      "metadata": {
        "id": "NW8JQqrah2Cm"
      },
      "execution_count": 30,
      "outputs": []
    },
    {
      "cell_type": "code",
      "source": [
        "# Select N values from 1 to 15\n",
        "N = [i for i in range(1, 16)]\n",
        "\n",
        "for K in N:\n",
        "  # Perform PCA\n",
        "  pca = PCA(n_components=K)\n",
        "  principalDf = pd.DataFrame(data = pca.fit_transform(x4))\n",
        "\n",
        "  # Split the data into training and validation sets\n",
        "  x4_train, x4_test, y4_train, y4_test = train_test_split(principalDf.values, y4, train_size = 0.8, test_size = 0.2, random_state = 0)\n",
        "\n",
        "  # Perform regression\n",
        "  classifier = LogisticRegression(random_state=0)\n",
        "  classifier.fit(x4_train, y4_train)\n",
        "\n",
        "  # Make predictions and find confusion matrix\n",
        "  y4_pred = classifier.predict(x4_test)\n",
        "  cnf_matrix_4 = confusion_matrix(y4_test, y4_pred)\n",
        "  print(cnf_matrix_4)\n",
        "\n",
        "  # Find accuracy, precision, and recall\n",
        "  print(\"Accuracy:\", metrics.accuracy_score(y4_test, y4_pred))\n",
        "  print(\"Precision:\", metrics.precision_score(y4_test, y4_pred))\n",
        "  print(\"Recall:\", metrics.recall_score(y4_test, y4_pred))\n",
        "  print(\"F1 Score:\", metrics.f1_score(y4_test, y4_pred))\n",
        "  print('\\n')"
      ],
      "metadata": {
        "colab": {
          "base_uri": "https://localhost:8080/"
        },
        "id": "LhQNAGhZPmI8",
        "outputId": "67f3afaa-5641-4b06-99a6-5abafc1f31b1"
      },
      "execution_count": 31,
      "outputs": [
        {
          "output_type": "stream",
          "name": "stdout",
          "text": [
            "[[61  6]\n",
            " [ 5 42]]\n",
            "Accuracy: 0.9035087719298246\n",
            "Precision: 0.875\n",
            "Recall: 0.8936170212765957\n",
            "F1 Score: 0.8842105263157894\n",
            "\n",
            "\n",
            "[[61  6]\n",
            " [ 2 45]]\n",
            "Accuracy: 0.9298245614035088\n",
            "Precision: 0.8823529411764706\n",
            "Recall: 0.9574468085106383\n",
            "F1 Score: 0.9183673469387754\n",
            "\n",
            "\n",
            "[[61  6]\n",
            " [ 4 43]]\n",
            "Accuracy: 0.9122807017543859\n",
            "Precision: 0.8775510204081632\n",
            "Recall: 0.9148936170212766\n",
            "F1 Score: 0.8958333333333333\n",
            "\n",
            "\n",
            "[[64  3]\n",
            " [ 3 44]]\n",
            "Accuracy: 0.9473684210526315\n",
            "Precision: 0.9361702127659575\n",
            "Recall: 0.9361702127659575\n",
            "F1 Score: 0.9361702127659575\n",
            "\n",
            "\n",
            "[[65  2]\n",
            " [ 3 44]]\n",
            "Accuracy: 0.956140350877193\n",
            "Precision: 0.9565217391304348\n",
            "Recall: 0.9361702127659575\n",
            "F1 Score: 0.9462365591397849\n",
            "\n",
            "\n",
            "[[65  2]\n",
            " [ 3 44]]\n",
            "Accuracy: 0.956140350877193\n",
            "Precision: 0.9565217391304348\n",
            "Recall: 0.9361702127659575\n",
            "F1 Score: 0.9462365591397849\n",
            "\n",
            "\n",
            "[[65  2]\n",
            " [ 3 44]]\n",
            "Accuracy: 0.956140350877193\n",
            "Precision: 0.9565217391304348\n",
            "Recall: 0.9361702127659575\n",
            "F1 Score: 0.9462365591397849\n",
            "\n",
            "\n",
            "[[65  2]\n",
            " [ 3 44]]\n",
            "Accuracy: 0.956140350877193\n",
            "Precision: 0.9565217391304348\n",
            "Recall: 0.9361702127659575\n",
            "F1 Score: 0.9462365591397849\n",
            "\n",
            "\n",
            "[[64  3]\n",
            " [ 3 44]]\n",
            "Accuracy: 0.9473684210526315\n",
            "Precision: 0.9361702127659575\n",
            "Recall: 0.9361702127659575\n",
            "F1 Score: 0.9361702127659575\n",
            "\n",
            "\n",
            "[[64  3]\n",
            " [ 3 44]]\n",
            "Accuracy: 0.9473684210526315\n",
            "Precision: 0.9361702127659575\n",
            "Recall: 0.9361702127659575\n",
            "F1 Score: 0.9361702127659575\n",
            "\n",
            "\n",
            "[[65  2]\n",
            " [ 2 45]]\n",
            "Accuracy: 0.9649122807017544\n",
            "Precision: 0.9574468085106383\n",
            "Recall: 0.9574468085106383\n",
            "F1 Score: 0.9574468085106385\n",
            "\n",
            "\n",
            "[[65  2]\n",
            " [ 2 45]]\n",
            "Accuracy: 0.9649122807017544\n",
            "Precision: 0.9574468085106383\n",
            "Recall: 0.9574468085106383\n",
            "F1 Score: 0.9574468085106385\n",
            "\n",
            "\n",
            "[[65  2]\n",
            " [ 2 45]]\n",
            "Accuracy: 0.9649122807017544\n",
            "Precision: 0.9574468085106383\n",
            "Recall: 0.9574468085106383\n",
            "F1 Score: 0.9574468085106385\n",
            "\n",
            "\n",
            "[[65  2]\n",
            " [ 2 45]]\n",
            "Accuracy: 0.9649122807017544\n",
            "Precision: 0.9574468085106383\n",
            "Recall: 0.9574468085106383\n",
            "F1 Score: 0.9574468085106385\n",
            "\n",
            "\n",
            "[[65  2]\n",
            " [ 2 45]]\n",
            "Accuracy: 0.9649122807017544\n",
            "Precision: 0.9574468085106383\n",
            "Recall: 0.9574468085106383\n",
            "F1 Score: 0.9574468085106385\n",
            "\n",
            "\n"
          ]
        }
      ]
    },
    {
      "cell_type": "markdown",
      "source": [
        "# Code for Problem 5"
      ],
      "metadata": {
        "id": "9VOF8oF6V4A4"
      }
    },
    {
      "cell_type": "code",
      "source": [
        "# Replacing the Benign and Malignant diagnoses with numbers\n",
        "cr_df['diagnosis'].replace('B', 0, inplace=True)\n",
        "cr_df['diagnosis'].replace('M', 1, inplace=True)\n",
        "\n",
        "# Extract the input and output values\n",
        "x5 = cr_df.iloc[:, 2:].values\n",
        "y5 = cr_df.iloc[:, 1].values\n",
        "\n",
        "# Perform standardization\n",
        "x5 = StandardScaler().fit_transform(x5)"
      ],
      "metadata": {
        "id": "elpfwnQiV6ud"
      },
      "execution_count": 32,
      "outputs": []
    },
    {
      "cell_type": "code",
      "source": [
        "# Select N values from 1 to 15\n",
        "N = [i for i in range(1, 16)]\n",
        "\n",
        "for K in N:\n",
        "  # Perform PCA\n",
        "  pca = PCA(n_components=K)\n",
        "  principalDf = pd.DataFrame(data = pca.fit_transform(x4))\n",
        "\n",
        "  # Split the data into training and validation sets\n",
        "  x5_train, x5_test, y5_train, y5_test = train_test_split(principalDf.values, y5, train_size = 0.8, test_size = 0.2, random_state = 0)\n",
        "\n",
        "  # Perform regression\n",
        "  classifier = GaussianNB()\n",
        "  classifier.fit(x5_train, y5_train)\n",
        "\n",
        "  # Make predictions and find confusion matrix\n",
        "  y5_pred = classifier.predict(x5_test)\n",
        "  cnf_matrix_5 = confusion_matrix(y5_test, y5_pred)\n",
        "  print(cnf_matrix_5)\n",
        "\n",
        "  # Find accuracy, precision, and recall\n",
        "  print(\"Accuracy:\", metrics.accuracy_score(y5_test, y5_pred))\n",
        "  print(\"Precision:\", metrics.precision_score(y5_test, y5_pred))\n",
        "  print(\"Recall:\", metrics.recall_score(y5_test, y5_pred))\n",
        "  print(\"F1 Score:\", metrics.f1_score(y5_test, y5_pred))\n",
        "  print('\\n')"
      ],
      "metadata": {
        "colab": {
          "base_uri": "https://localhost:8080/"
        },
        "id": "o1KfX-KpWA5N",
        "outputId": "a6b38830-cdf0-4613-bedd-384b2c87848c"
      },
      "execution_count": 33,
      "outputs": [
        {
          "output_type": "stream",
          "name": "stdout",
          "text": [
            "[[61  6]\n",
            " [ 5 42]]\n",
            "Accuracy: 0.9035087719298246\n",
            "Precision: 0.875\n",
            "Recall: 0.8936170212765957\n",
            "F1 Score: 0.8842105263157894\n",
            "\n",
            "\n",
            "[[62  5]\n",
            " [ 5 42]]\n",
            "Accuracy: 0.9122807017543859\n",
            "Precision: 0.8936170212765957\n",
            "Recall: 0.8936170212765957\n",
            "F1 Score: 0.8936170212765957\n",
            "\n",
            "\n",
            "[[61  6]\n",
            " [ 5 42]]\n",
            "Accuracy: 0.9035087719298246\n",
            "Precision: 0.875\n",
            "Recall: 0.8936170212765957\n",
            "F1 Score: 0.8842105263157894\n",
            "\n",
            "\n",
            "[[61  6]\n",
            " [ 5 42]]\n",
            "Accuracy: 0.9035087719298246\n",
            "Precision: 0.875\n",
            "Recall: 0.8936170212765957\n",
            "F1 Score: 0.8842105263157894\n",
            "\n",
            "\n",
            "[[64  3]\n",
            " [ 6 41]]\n",
            "Accuracy: 0.9210526315789473\n",
            "Precision: 0.9318181818181818\n",
            "Recall: 0.8723404255319149\n",
            "F1 Score: 0.9010989010989012\n",
            "\n",
            "\n",
            "[[64  3]\n",
            " [ 6 41]]\n",
            "Accuracy: 0.9210526315789473\n",
            "Precision: 0.9318181818181818\n",
            "Recall: 0.8723404255319149\n",
            "F1 Score: 0.9010989010989012\n",
            "\n",
            "\n",
            "[[63  4]\n",
            " [ 6 41]]\n",
            "Accuracy: 0.9122807017543859\n",
            "Precision: 0.9111111111111111\n",
            "Recall: 0.8723404255319149\n",
            "F1 Score: 0.891304347826087\n",
            "\n",
            "\n",
            "[[63  4]\n",
            " [ 6 41]]\n",
            "Accuracy: 0.9122807017543859\n",
            "Precision: 0.9111111111111111\n",
            "Recall: 0.8723404255319149\n",
            "F1 Score: 0.891304347826087\n",
            "\n",
            "\n",
            "[[63  4]\n",
            " [ 6 41]]\n",
            "Accuracy: 0.9122807017543859\n",
            "Precision: 0.9111111111111111\n",
            "Recall: 0.8723404255319149\n",
            "F1 Score: 0.891304347826087\n",
            "\n",
            "\n",
            "[[63  4]\n",
            " [ 6 41]]\n",
            "Accuracy: 0.9122807017543859\n",
            "Precision: 0.9111111111111111\n",
            "Recall: 0.8723404255319149\n",
            "F1 Score: 0.891304347826087\n",
            "\n",
            "\n",
            "[[63  4]\n",
            " [ 6 41]]\n",
            "Accuracy: 0.9122807017543859\n",
            "Precision: 0.9111111111111111\n",
            "Recall: 0.8723404255319149\n",
            "F1 Score: 0.891304347826087\n",
            "\n",
            "\n",
            "[[63  4]\n",
            " [ 6 41]]\n",
            "Accuracy: 0.9122807017543859\n",
            "Precision: 0.9111111111111111\n",
            "Recall: 0.8723404255319149\n",
            "F1 Score: 0.891304347826087\n",
            "\n",
            "\n",
            "[[63  4]\n",
            " [ 6 41]]\n",
            "Accuracy: 0.9122807017543859\n",
            "Precision: 0.9111111111111111\n",
            "Recall: 0.8723404255319149\n",
            "F1 Score: 0.891304347826087\n",
            "\n",
            "\n",
            "[[63  4]\n",
            " [ 6 41]]\n",
            "Accuracy: 0.9122807017543859\n",
            "Precision: 0.9111111111111111\n",
            "Recall: 0.8723404255319149\n",
            "F1 Score: 0.891304347826087\n",
            "\n",
            "\n",
            "[[63  4]\n",
            " [ 7 40]]\n",
            "Accuracy: 0.9035087719298246\n",
            "Precision: 0.9090909090909091\n",
            "Recall: 0.851063829787234\n",
            "F1 Score: 0.8791208791208791\n",
            "\n",
            "\n"
          ]
        }
      ]
    }
  ]
}